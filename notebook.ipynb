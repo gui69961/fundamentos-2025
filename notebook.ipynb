{
 "cells": [
  {
   "cell_type": "code",
   "execution_count": 1,
   "metadata": {},
   "outputs": [],
   "source": [
    "texto = input(\"Digite uma string:\")\n",
    "\n",
    "texto_convertido= \"\"\n",
    "\n",
    "for letra in texto:\n",
    "    if letra in \"aeiou\":\n",
    "        texto_convertido = texto_convertido + chr(ord(letra)- 32)\n",
    "    else:\n",
    "        texto_convertido = texto_convertido + letra\n",
    "\n",
    "        print(\"texto convertido :\", texto_convertido)\n",
    "\n",
    " \n"
   ]
  }
 ],
 "metadata": {
  "kernelspec": {
   "display_name": "base",
   "language": "python",
   "name": "python3"
  },
  "language_info": {
   "codemirror_mode": {
    "name": "ipython",
    "version": 3
   },
   "file_extension": ".py",
   "mimetype": "text/x-python",
   "name": "python",
   "nbconvert_exporter": "python",
   "pygments_lexer": "ipython3",
   "version": "3.9.13"
  }
 },
 "nbformat": 4,
 "nbformat_minor": 2
}
